{
 "cells": [
  {
   "cell_type": "markdown",
   "metadata": {},
   "source": [
    "# Model genreation for Mnist_Fashion Dataset"
   ]
  },
  {
   "cell_type": "markdown",
   "metadata": {},
   "source": [
    "### Step-1: We are using the following function to read the data and return it as a numpy array"
   ]
  },
  {
   "cell_type": "code",
   "execution_count": 2,
   "metadata": {},
   "outputs": [],
   "source": [
    "import gzip\n",
    "import struct \n",
    "import numpy as np\n",
    "\n",
    "def read_idx(filename):\n",
    "    with gzip.open(filename, 'rb') as f:\n",
    "        zero, data_type, dims = struct.unpack('>HBB', f.read(4))\n",
    "        shape = tuple(struct.unpack('>I', f.read(4))[0] for d in range(dims))\n",
    "        return np.frombuffer(f.read(), dtype=np.uint8).reshape(shape)\n",
    "        #np.fromstring(f.read(), dtype=np.uint8).reshape(shape)"
   ]
  },
  {
   "cell_type": "markdown",
   "metadata": {},
   "source": [
    "### Step-2: We use the function to extact our training and test datasets"
   ]
  },
  {
   "cell_type": "code",
   "execution_count": 3,
   "metadata": {},
   "outputs": [],
   "source": [
    "x_train = read_idx(\"<Your Path>/train-images-idx3-ubyte.gz\")\n",
    "y_train = read_idx(\"<Your Path>/train-labels-idx1-ubyte.gz\")\n",
    "x_test = read_idx(\"<Your Path>/t10k-images-idx3-ubyte.gz\")\n",
    "y_test = read_idx(\"<Your Path>/t10k-labels-idx1-ubyte.gz\")"
   ]
  },
  {
   "cell_type": "markdown",
   "metadata": {},
   "source": [
    "### Step-3: Viewing the Data for the extracted Dataset"
   ]
  },
  {
   "cell_type": "code",
   "execution_count": 6,
   "metadata": {},
   "outputs": [
    {
     "name": "stdout",
     "output_type": "stream",
     "text": [
      "Initial shape or dimensions of x_train (60000, 28, 28)\n",
      "==>Number of samples in our training data: 60000\n",
      "==>Number of labels in our training data: 60000\n",
      "==>Number of samples in our test data: 10000\n",
      "==>Number of labels in our test data: 10000\n",
      "\n",
      "Dimensions of x_train:(28, 28)\n",
      "Labels in x_train:(60000,)\n",
      "\n",
      "Dimensions of x_test:(28, 28)\n",
      "Labels in y_test:(10000,)\n"
     ]
    }
   ],
   "source": [
    "# printing the number of samples in x_train, x_test, y_train, y_test\n",
    "print(\"Initial shape or dimensions of x_train\", str(x_train.shape))\n",
    "\n",
    "print (\"==>Number of samples in our training data: \" + str(len(x_train)))\n",
    "print (\"==>Number of labels in our training data: \" + str(len(y_train)))\n",
    "print (\"==>Number of samples in our test data: \" + str(len(x_test)))\n",
    "print (\"==>Number of labels in our test data: \" + str(len(y_test)))\n",
    "print()\n",
    "print (\"Dimensions of x_train:\" + str(x_train[0].shape))\n",
    "print (\"Labels in x_train:\" + str(y_train.shape))\n",
    "print()\n",
    "print (\"Dimensions of x_test:\" + str(x_test[0].shape))\n",
    "print (\"Labels in y_test:\" + str(y_test.shape))"
   ]
  },
  {
   "cell_type": "markdown",
   "metadata": {},
   "source": [
    "### Step-4: Let's view some sample images"
   ]
  },
  {
   "cell_type": "code",
   "execution_count": 7,
   "metadata": {},
   "outputs": [
    {
     "data": {
      "image/png": "[encoded data removed]",
      "text/plain": [
       "<Figure size 432x288 with 6 Axes>"
      ]
     },
     "metadata": {
      "needs_background": "light"
     },
     "output_type": "display_data"
    }
   ],
   "source": [
    "# Let's do the same thing but using matplotlib to plot 6 images \n",
    "import matplotlib.pyplot as plt\n",
    "\n",
    "# Plots 6 images, note subplot's arugments are nrows,ncols,index\n",
    "# we set the color map to grey since our image dataset is grayscale\n",
    "plt.subplot(331)\n",
    "random_num = np.random.randint(0,len(x_train))\n",
    "plt.imshow(x_train[random_num], cmap=plt.get_cmap('gray'))\n",
    "\n",
    "plt.subplot(332)\n",
    "random_num = np.random.randint(0,len(x_train))\n",
    "plt.imshow(x_train[random_num], cmap=plt.get_cmap('gray'))\n",
    "\n",
    "plt.subplot(333)\n",
    "random_num = np.random.randint(0,len(x_train))\n",
    "plt.imshow(x_train[random_num], cmap=plt.get_cmap('gray'))\n",
    "\n",
    "plt.subplot(334)\n",
    "random_num = np.random.randint(0,len(x_train))\n",
    "plt.imshow(x_train[random_num], cmap=plt.get_cmap('gray'))\n",
    "\n",
    "plt.subplot(335)\n",
    "random_num = np.random.randint(0,len(x_train))\n",
    "plt.imshow(x_train[random_num], cmap=plt.get_cmap('gray'))\n",
    "\n",
    "plt.subplot(336)\n",
    "random_num = np.random.randint(0,len(x_train))\n",
    "plt.imshow(x_train[random_num], cmap=plt.get_cmap('gray'))\n",
    "\n",
    "# Display out plots\n",
    "plt.show()"
   ]
  },
  {
   "cell_type": "markdown",
   "metadata": {},
   "source": [
    "### Step-5: Building our own Model Now "
   ]
  },
  {
   "cell_type": "code",
   "execution_count": 8,
   "metadata": {},
   "outputs": [
    {
     "name": "stdout",
     "output_type": "stream",
     "text": [
      "x_train shape: (60000, 28, 28, 1)\n",
      "60000 train samples\n",
      "10000 test samples\n",
      "Number of Classes: 10\n",
      "Model: \"sequential\"\n",
      "_________________________________________________________________\n",
      "Layer (type)                 Output Shape              Param #   \n",
      "=================================================================\n",
      "conv2d (Conv2D)              (None, 26, 26, 128)       1280      \n",
      "_________________________________________________________________\n",
      "batch_normalization (BatchNo (None, 26, 26, 128)       512       \n",
      "_________________________________________________________________\n",
      "max_pooling2d (MaxPooling2D) (None, 13, 13, 128)       0         \n",
      "_________________________________________________________________\n",
      "dropout (Dropout)            (None, 13, 13, 128)       0         \n",
      "_________________________________________________________________\n",
      "conv2d_1 (Conv2D)            (None, 11, 11, 64)        73792     \n",
      "_________________________________________________________________\n",
      "batch_normalization_1 (Batch (None, 11, 11, 64)        256       \n",
      "_________________________________________________________________\n",
      "conv2d_2 (Conv2D)            (None, 9, 9, 32)          18464     \n",
      "_________________________________________________________________\n",
      "batch_normalization_2 (Batch (None, 9, 9, 32)          128       \n",
      "_________________________________________________________________\n",
      "max_pooling2d_1 (MaxPooling2 (None, 4, 4, 32)          0         \n",
      "_________________________________________________________________\n",
      "dropout_1 (Dropout)          (None, 4, 4, 32)          0         \n",
      "_________________________________________________________________\n",
      "flatten (Flatten)            (None, 512)               0         \n",
      "_________________________________________________________________\n",
      "dense (Dense)                (None, 128)               65664     \n",
      "_________________________________________________________________\n",
      "batch_normalization_3 (Batch (None, 128)               512       \n",
      "_________________________________________________________________\n",
      "dropout_2 (Dropout)          (None, 128)               0         \n",
      "_________________________________________________________________\n",
      "dense_1 (Dense)              (None, 10)                1290      \n",
      "=================================================================\n",
      "Total params: 161,898\n",
      "Trainable params: 161,194\n",
      "Non-trainable params: 704\n",
      "_________________________________________________________________\n",
      "None\n"
     ]
    }
   ],
   "source": [
    "from keras.utils import np_utils\n",
    "import keras\n",
    "from keras.models import Sequential\n",
    "from keras.layers import Dense, Dropout, Flatten\n",
    "from keras.layers import Conv2D, MaxPooling2D, BatchNormalization\n",
    "from keras import backend as K\n",
    "\n",
    "# Training Parameters\n",
    "batch_size = 128\n",
    "epochs = 20\n",
    "\n",
    "# Lets store the number of rows and columns\n",
    "img_rows = x_train[0].shape[0]\n",
    "img_cols = x_train[1].shape[0]\n",
    "\n",
    "# Getting our data in the right 'shape' needed for Keras\n",
    "# We need to add a 4th dimenion to our date thereby changing our\n",
    "# Our original image shape of (60000,28,28) to (60000,28,28,1)\n",
    "x_train = x_train.reshape(x_train.shape[0], img_rows, img_cols, 1)\n",
    "x_test = x_test.reshape(x_test.shape[0], img_rows, img_cols, 1)\n",
    "\n",
    "# store the shape of a single image \n",
    "input_shape = (img_rows, img_cols, 1)\n",
    "\n",
    "# change our image type to float32 data type\n",
    "x_train = x_train.astype('float32')\n",
    "x_test = x_test.astype('float32')\n",
    "\n",
    "# Normalize our data by changing the range from (0 to 255) to (0 to 1)\n",
    "x_train /= 255\n",
    "x_test /= 255\n",
    "\n",
    "print('x_train shape:', x_train.shape)\n",
    "print(x_train.shape[0], 'train samples')\n",
    "print(x_test.shape[0], 'test samples')\n",
    "\n",
    "# Now we one hot encode outputs\n",
    "y_train = np_utils.to_categorical(y_train)\n",
    "y_test = np_utils.to_categorical(y_test)\n",
    "\n",
    "# Let's count the number columns in our hot encoded matrix \n",
    "print (\"Number of Classes: \" + str(y_test.shape[1]))\n",
    "\n",
    "# Number of classed for classification\n",
    "num_classes = y_test.shape[1]\n",
    "\n",
    "# create model (Initially Empyty)\n",
    "model = Sequential()\n",
    "\n",
    "# Adding 1st Convoloution Layer with Relu Activation Function\n",
    "model.add(Conv2D(128, kernel_size=(3, 3),\n",
    "                 activation='relu',\n",
    "                 input_shape=input_shape))\n",
    "\n",
    "#Adding 1st BatchNormalization as a Layer\n",
    "model.add(BatchNormalization())\n",
    "\n",
    "#Adding 1st Maxpooling layer to Reduce the size also using DroupOut\n",
    "model.add(MaxPooling2D(pool_size=(2, 2)))\n",
    "model.add(Dropout(0.25))\n",
    "\n",
    "# Adding 2nd Convoloution Layer with Relu Activation Function\n",
    "model.add(Conv2D(64, kernel_size=(3, 3),\n",
    "                 activation='relu',\n",
    "                 input_shape=input_shape))\n",
    "#Adding 2nd BatchNormalization as a Layer\n",
    "model.add(BatchNormalization())\n",
    "\n",
    "# Adding 3rd Convoloution Layer with Relu Activation Function\n",
    "model.add(Conv2D(32, (3, 3), activation='relu'))\n",
    "\n",
    "#Adding 3rd BatchNormalization as a Layer\n",
    "model.add(BatchNormalization())\n",
    "\n",
    "#Adding 2nd Maxpooling layer to Reduce the size also using DroupOut\n",
    "model.add(MaxPooling2D(pool_size=(2, 2)))\n",
    "model.add(Dropout(0.25))\n",
    "\n",
    "#Adding flattening layer \n",
    "model.add(Flatten())\n",
    "model.add(Dense(128, activation='relu'))\n",
    "model.add(BatchNormalization())\n",
    "model.add(Dropout(0.5))\n",
    "\n",
    "#Fully Connected Network having softmax activation for Multiclassification\n",
    "model.add(Dense(num_classes, activation='softmax'))\n",
    "\n",
    "#Finally compiling the model\n",
    "model.compile(loss = 'categorical_crossentropy',\n",
    "              optimizer = keras.optimizers.Adam(),\n",
    "              metrics = ['accuracy'])\n",
    "\n",
    "print(model.summary())"
   ]
  },
  {
   "cell_type": "markdown",
   "metadata": {},
   "source": [
    "### Step-6: Training the model for our use case"
   ]
  },
  {
   "cell_type": "code",
   "execution_count": 10,
   "metadata": {},
   "outputs": [
    {
     "name": "stdout",
     "output_type": "stream",
     "text": [
      "Epoch 1/20\n",
      "469/469 [==============================] - 156s 299ms/step - loss: 0.9241 - accuracy: 0.6906 - val_loss: 0.9210 - val_accuracy: 0.7121\n",
      "Epoch 2/20\n",
      "469/469 [==============================] - 140s 298ms/step - loss: 0.4095 - accuracy: 0.8528 - val_loss: 0.3579 - val_accuracy: 0.8688\n",
      "Epoch 3/20\n",
      "469/469 [==============================] - 141s 299ms/step - loss: 0.3443 - accuracy: 0.8766 - val_loss: 0.2970 - val_accuracy: 0.8945\n",
      "Epoch 4/20\n",
      "469/469 [==============================] - 142s 303ms/step - loss: 0.3128 - accuracy: 0.8854 - val_loss: 0.3992 - val_accuracy: 0.8508\n",
      "Epoch 5/20\n",
      "469/469 [==============================] - 140s 298ms/step - loss: 0.2855 - accuracy: 0.8971 - val_loss: 0.2769 - val_accuracy: 0.8983\n",
      "Epoch 6/20\n",
      "469/469 [==============================] - 139s 296ms/step - loss: 0.2689 - accuracy: 0.9029 - val_loss: 0.2985 - val_accuracy: 0.8887\n",
      "Epoch 7/20\n",
      "469/469 [==============================] - 139s 296ms/step - loss: 0.2621 - accuracy: 0.9069 - val_loss: 0.2794 - val_accuracy: 0.8924\n",
      "Epoch 8/20\n",
      "469/469 [==============================] - 138s 293ms/step - loss: 0.2559 - accuracy: 0.9079 - val_loss: 0.2657 - val_accuracy: 0.8978\n",
      "Epoch 9/20\n",
      "469/469 [==============================] - 139s 295ms/step - loss: 0.2436 - accuracy: 0.9113 - val_loss: 0.2588 - val_accuracy: 0.9054\n",
      "Epoch 10/20\n",
      "469/469 [==============================] - 144s 307ms/step - loss: 0.2331 - accuracy: 0.9145 - val_loss: 0.2343 - val_accuracy: 0.9162\n",
      "Epoch 11/20\n",
      "469/469 [==============================] - 142s 304ms/step - loss: 0.2300 - accuracy: 0.9167 - val_loss: 0.2686 - val_accuracy: 0.9004\n",
      "Epoch 12/20\n",
      "469/469 [==============================] - 146s 311ms/step - loss: 0.2178 - accuracy: 0.9207 - val_loss: 0.2275 - val_accuracy: 0.9163\n",
      "Epoch 13/20\n",
      "469/469 [==============================] - 144s 308ms/step - loss: 0.2182 - accuracy: 0.9190 - val_loss: 0.2405 - val_accuracy: 0.9125\n",
      "Epoch 14/20\n",
      "469/469 [==============================] - 131s 279ms/step - loss: 0.2104 - accuracy: 0.9240 - val_loss: 0.2372 - val_accuracy: 0.9123\n",
      "Epoch 15/20\n",
      "469/469 [==============================] - 150s 320ms/step - loss: 0.2024 - accuracy: 0.9253 - val_loss: 0.2599 - val_accuracy: 0.9044\n",
      "Epoch 16/20\n",
      "469/469 [==============================] - 133s 284ms/step - loss: 0.1973 - accuracy: 0.9282 - val_loss: 0.2349 - val_accuracy: 0.9136\n",
      "Epoch 17/20\n",
      "469/469 [==============================] - 117s 249ms/step - loss: 0.1961 - accuracy: 0.9279 - val_loss: 0.2464 - val_accuracy: 0.9106\n",
      "Epoch 18/20\n",
      "469/469 [==============================] - 115s 246ms/step - loss: 0.1916 - accuracy: 0.9285 - val_loss: 0.2268 - val_accuracy: 0.9198\n",
      "Epoch 19/20\n",
      "469/469 [==============================] - 110s 234ms/step - loss: 0.1849 - accuracy: 0.9320 - val_loss: 0.2152 - val_accuracy: 0.9204\n",
      "Epoch 20/20\n",
      "469/469 [==============================] - 112s 239ms/step - loss: 0.1830 - accuracy: 0.9335 - val_loss: 0.2313 - val_accuracy: 0.9155\n",
      "Test loss: 0.23133501410484314\n",
      "Test accuracy: 0.9154999852180481\n"
     ]
    }
   ],
   "source": [
    "history = model.fit(x_train, y_train,\n",
    "          batch_size=batch_size,\n",
    "          epochs=epochs,\n",
    "          verbose=1,\n",
    "          validation_data=(x_test, y_test),\n",
    "          #callbacks=[callbacks]\n",
    "                   )\n",
    "\n",
    "score = model.evaluate(x_test, y_test, verbose=0)\n",
    "print('Test loss:', score[0])\n",
    "print('Test accuracy:', score[1])"
   ]
  },
  {
   "cell_type": "markdown",
   "metadata": {},
   "source": [
    "### Final Loss and Accuracy"
   ]
  },
  {
   "cell_type": "code",
   "execution_count": 15,
   "metadata": {},
   "outputs": [
    {
     "name": "stdout",
     "output_type": "stream",
     "text": [
      "Test loss: 0.23133501410484314\n",
      "Test accuracy: 0.9154999852180481\n"
     ]
    }
   ],
   "source": [
    "print('Test loss:', score[0])\n",
    "print('Test accuracy:', score[1])"
   ]
  },
  {
   "cell_type": "code",
   "execution_count": 14,
   "metadata": {},
   "outputs": [],
   "source": [
    "import cv2\n",
    "import numpy as np\n",
    "\n",
    "def getLabel(input_class):\n",
    "    number = int(input_class)\n",
    "    if number == 0:\n",
    "        return \"T-shirt/top \"\n",
    "    if number == 1:\n",
    "        return \"Trouser\"\n",
    "    if number == 2:\n",
    "        return \"Pullover\"\n",
    "    if number == 3:\n",
    "        return \"Dress\"\n",
    "    if number == 4:\n",
    "        return \"Coat\"\n",
    "    if number == 5:\n",
    "        return \"Sandal\"\n",
    "    if number == 6:\n",
    "        return \"Shirt\"\n",
    "    if number == 7:\n",
    "        return \"Sneaker\"\n",
    "    if number == 8:\n",
    "        return \"Bag\"\n",
    "    if number == 9:\n",
    "        return \"Ankle boot\"\n",
    "\n",
    "def draw_test(name, pred, actual, input_im):\n",
    "    BLACK = [0,0,0]\n",
    "\n",
    "    res = getLabel(pred)\n",
    "    actual = getLabel(actual)   \n",
    "    expanded_image = cv2.copyMakeBorder(input_im, 0, 0, 0, 4*imageL.shape[0] ,cv2.BORDER_CONSTANT,value=BLACK)\n",
    "    expanded_image = cv2.cvtColor(expanded_image, cv2.COLOR_GRAY2BGR)\n",
    "    cv2.putText(expanded_image, \"Predicted - \" + str(res), (152, 70) , cv2.FONT_HERSHEY_COMPLEX_SMALL,1, (0,255,0), 1)\n",
    "    cv2.putText(expanded_image, \"   Actual - \" + str(actual), (152, 90) , cv2.FONT_HERSHEY_COMPLEX_SMALL,1, (0,0,255), 1)\n",
    "    cv2.imshow(name, expanded_image)\n",
    "\n",
    "\n",
    "for i in range(0,10):\n",
    "    rand = np.random.randint(0,len(x_test))\n",
    "    input_im = x_test[rand]\n",
    "    actual = y_test[rand].argmax(axis=0)\n",
    "    imageL = cv2.resize(input_im, None, fx=4, fy=4, interpolation = cv2.INTER_CUBIC)\n",
    "    input_im = input_im.reshape(1,28,28,1) \n",
    "    \n",
    "    ## Get Prediction\n",
    "    res = str(np.argmax(model.predict(input_im, 1, verbose = 0), axis=-1)[0])\n",
    "    #res = str(model.predict_classes(input_im, 1, verbose = 0)[0])\n",
    "\n",
    "    draw_test(\"Prediction\", res, actual, imageL) \n",
    "    cv2.waitKey(0)\n",
    "\n",
    "cv2.destroyAllWindows()"
   ]
  },
  {
   "cell_type": "code",
   "execution_count": 12,
   "metadata": {},
   "outputs": [],
   "source": [
    "#from keras.models import save_model"
   ]
  },
  {
   "cell_type": "code",
   "execution_count": 13,
   "metadata": {},
   "outputs": [],
   "source": [
    "model.save(\"mnist_model1.h5\")"
   ]
  }
 ],
 "metadata": {
  "kernelspec": {
   "display_name": "Python 3",
   "language": "python",
   "name": "python3"
  },
  "language_info": {
   "codemirror_mode": {
    "name": "ipython",
    "version": 3
   },
   "file_extension": ".py",
   "mimetype": "text/x-python",
   "name": "python",
   "nbconvert_exporter": "python",
   "pygments_lexer": "ipython3",
   "version": "3.8.5"
  }
 },
 "nbformat": 4,
 "nbformat_minor": 4
}
